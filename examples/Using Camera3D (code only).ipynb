{
 "cells": [
  {
   "cell_type": "code",
   "execution_count": null,
   "id": "0576f110-5def-444b-a1af-f17241f665b5",
   "metadata": {},
   "outputs": [],
   "source": [
    "import py5_tools\n",
    "py5_tools.add_jars('../jars')"
   ]
  },
  {
   "cell_type": "code",
   "execution_count": null,
   "id": "7411d432-bf92-4bdc-bc12-77a6935e3e65",
   "metadata": {},
   "outputs": [],
   "source": [
    "import py5"
   ]
  },
  {
   "cell_type": "code",
   "execution_count": null,
   "id": "f81b9d10-9127-42df-997f-34fa5e684186",
   "metadata": {},
   "outputs": [],
   "source": [
    "Camera3D = py5.JClass('camera3D.Camera3D')"
   ]
  },
  {
   "cell_type": "code",
   "execution_count": null,
   "id": "b9917e3b-7649-498b-8418-b723feb4273c",
   "metadata": {},
   "outputs": [],
   "source": [
    "rot_x = 0\n",
    "rot_y = 0\n",
    "rot_z = 0"
   ]
  },
  {
   "cell_type": "code",
   "execution_count": null,
   "id": "33f837fb-a4c6-4230-af9d-9017ecbbbc9b",
   "metadata": {},
   "outputs": [],
   "source": [
    "def settings():\n",
    "    py5.size(400, 400, py5.P3D)"
   ]
  },
  {
   "cell_type": "code",
   "execution_count": null,
   "id": "3a000f33-7b38-4dc7-bc22-1edc8c839975",
   "metadata": {},
   "outputs": [],
   "source": [
    "def setup():\n",
    "    py5.frame_rate(30)\n",
    "    py5.stroke_weight(8)\n",
    "    py5.stroke(0)\n",
    "    py5.no_fill()\n",
    "\n",
    "    camera3D = Camera3D(py5.get_current_sketch())\n",
    "    camera3D.setBackgroundColor(py5.color(192))\n",
    "    camera3D.renderDefaultAnaglyph().setDivergence(1)"
   ]
  },
  {
   "cell_type": "code",
   "execution_count": null,
   "id": "0604b822-bc7c-49dc-a2e9-b491625075e9",
   "metadata": {},
   "outputs": [],
   "source": [
    "def pre_draw():\n",
    "    global rot_x\n",
    "    rot_x += 0.8\n",
    "    global rot_y\n",
    "    rot_y += 0.3\n",
    "    global rot_z\n",
    "    rot_z += 0.5"
   ]
  },
  {
   "cell_type": "code",
   "execution_count": null,
   "id": "6c45a12f-1983-4b55-9580-69125dd8b71f",
   "metadata": {},
   "outputs": [],
   "source": [
    "def draw():\n",
    "    py5.translate(py5.width / 2, py5.height / 2, -200)\n",
    "    py5.rotate_x(py5.radians(rot_x))\n",
    "    py5.rotate_y(py5.radians(rot_y))\n",
    "    py5.rotate_z(py5.radians(rot_z))\n",
    "\n",
    "    py5.box(250)"
   ]
  },
  {
   "cell_type": "code",
   "execution_count": null,
   "id": "40059afe-221b-45cf-bc8c-a81c79054b31",
   "metadata": {},
   "outputs": [],
   "source": [
    "def post_draw():\n",
    "    pass"
   ]
  },
  {
   "cell_type": "code",
   "execution_count": null,
   "id": "9ea62d00-60e4-4b4b-974a-cbe2ba03cc6b",
   "metadata": {},
   "outputs": [],
   "source": [
    "py5.run_sketch()"
   ]
  },
  {
   "cell_type": "code",
   "execution_count": null,
   "id": "b0cc22cd-bcaf-4d42-b159-f34aa8f8a94e",
   "metadata": {},
   "outputs": [],
   "source": [
    "portal = py5_tools.sketch_portal(hook_post_draw=True)\n",
    "\n",
    "portal"
   ]
  },
  {
   "cell_type": "code",
   "execution_count": null,
   "id": "d2325be4-c3c7-4500-a30e-b68584b41e95",
   "metadata": {},
   "outputs": [],
   "source": []
  }
 ],
 "metadata": {
  "kernelspec": {
   "display_name": "Python 3",
   "language": "python",
   "name": "python3"
  },
  "language_info": {
   "codemirror_mode": {
    "name": "ipython",
    "version": 3
   },
   "file_extension": ".py",
   "mimetype": "text/x-python",
   "name": "python",
   "nbconvert_exporter": "python",
   "pygments_lexer": "ipython3",
   "version": "3.8.10"
  },
  "widgets": {
   "application/vnd.jupyter.widget-state+json": {
    "state": {},
    "version_major": 2,
    "version_minor": 0
   }
  }
 },
 "nbformat": 4,
 "nbformat_minor": 5
}
