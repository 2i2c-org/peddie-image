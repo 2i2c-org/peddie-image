{
 "cells": [
  {
   "cell_type": "markdown",
   "id": "aca7d498-2317-4460-ba99-37c27e854324",
   "metadata": {},
   "source": [
    "# Rotating Cube\n",
    "\n",
    "This is a simple demonstration of using py5 in binder. This will use the P3D (OpenGL) renderer. If you are running this notebook through binder, the running Sketch will be viewable through a py5 Sketch Portal.\n",
    "\n",
    "[![Binder](https://mybinder.org/badge_logo.svg)](https://mybinder.org/v2/gh/hx2A/py5examples/HEAD?filepath=examples%2FRotating%20Cube.ipynb)"
   ]
  },
  {
   "cell_type": "markdown",
   "id": "6d19e126-9c37-4ab7-aaf1-a11ef5fc7b91",
   "metadata": {},
   "source": [
    "## Import py5 and py5_tools\n",
    "\n",
    "Import the py5 library. When the library is imported the Java Virtual Machine (JVM) is started."
   ]
  },
  {
   "cell_type": "code",
   "execution_count": 1,
   "id": "26b3834f-a171-4229-97c1-6cee9d335eba",
   "metadata": {},
   "outputs": [],
   "source": [
    "import py5_tools\n",
    "import py5"
   ]
  },
  {
   "cell_type": "markdown",
   "id": "d70a8072-d85d-4be6-bd53-3c4570608c2a",
   "metadata": {},
   "source": [
    "## Define Global Variables\n",
    "\n",
    "Define some global variables that will be used by the Sketch."
   ]
  },
  {
   "cell_type": "code",
   "execution_count": 2,
   "id": "8ed9a999-a272-4ee9-8757-3a03fd9d1b5b",
   "metadata": {},
   "outputs": [],
   "source": [
    "rot_x = 0\n",
    "rot_y = 0\n",
    "rot_z = 0"
   ]
  },
  {
   "cell_type": "markdown",
   "id": "128cc381-6116-4f2d-b566-156dd53f6923",
   "metadata": {},
   "source": [
    "## Define `settings` Method\n",
    "\n",
    "This will set the width and height of the Sketch. In py5, calls to the `size()` method must go in `settings()`, which is separate from `setup()`.\n",
    "\n",
    "In a future release, py5 will allow you to call the `size()` method from `setup()` and skip `settings()` altogether. This is analogous to what can be done in the Processing IDE."
   ]
  },
  {
   "cell_type": "code",
   "execution_count": 3,
   "id": "9d0a4a73-f302-4216-a826-f30af6785e96",
   "metadata": {},
   "outputs": [],
   "source": [
    "def settings():\n",
    "    py5.size(400, 400, py5.P3D)"
   ]
  },
  {
   "cell_type": "markdown",
   "id": "9cc18f60-b951-4463-9918-c5d51ee57683",
   "metadata": {},
   "source": [
    "## Define `setup` Method\n",
    "\n",
    "The setup method will set the frame rate and other basic setup type stuff."
   ]
  },
  {
   "cell_type": "code",
   "execution_count": 4,
   "id": "f843ca3e-afec-4350-867f-3521c1dcb6a6",
   "metadata": {},
   "outputs": [],
   "source": [
    "def setup():\n",
    "    py5.frame_rate(30)\n",
    "    py5.stroke_weight(8)\n",
    "    py5.stroke(0)\n",
    "    py5.no_fill()"
   ]
  },
  {
   "cell_type": "markdown",
   "id": "fa9b4be8-100e-4d00-93a6-11af71cd9c18",
   "metadata": {},
   "source": [
    "## Define `draw` Method\n",
    "\n",
    "The draw method will do some transformations and draw a box."
   ]
  },
  {
   "cell_type": "code",
   "execution_count": 5,
   "id": "6d7adde3-ecab-4399-bfa8-6b35fa66c66d",
   "metadata": {},
   "outputs": [],
   "source": [
    "def draw():\n",
    "    py5.background(192)\n",
    "\n",
    "    global rot_x\n",
    "    rot_x += 0.8\n",
    "    global rot_y\n",
    "    rot_y += 0.3\n",
    "    global rot_z\n",
    "    rot_z += 0.5\n",
    "\n",
    "    py5.translate(py5.width / 2, py5.height / 2, -200)\n",
    "    py5.rotate_x(py5.radians(rot_x))\n",
    "    py5.rotate_y(py5.radians(rot_y))\n",
    "    py5.rotate_z(py5.radians(rot_z))\n",
    "\n",
    "    py5.box(250)"
   ]
  },
  {
   "cell_type": "markdown",
   "id": "fafb8281-ae53-4e5b-a424-6cdb2347139c",
   "metadata": {},
   "source": [
    "## Run the Sketch\n",
    "\n",
    "Run the sketch, opening a window on the display. If you are running this through a JupterHub platform such as binder, no window will appear on your computer because the Sketch is really running on a server in the cloud. As an alternative, we will create a py5 Sketch Portal to view the animation."
   ]
  },
  {
   "cell_type": "code",
   "execution_count": 6,
   "id": "3799f21b-e2c9-452c-8c67-c8fa6e599100",
   "metadata": {},
   "outputs": [],
   "source": [
    "py5.run_sketch()"
   ]
  },
  {
   "cell_type": "markdown",
   "id": "b1c8631f-d97c-4a39-9262-28a9c5b1a1c9",
   "metadata": {},
   "source": [
    "## Open the py5 Sketch Portal\n",
    "\n",
    "This will create a Sketch portal and embed it in the notebook.\n",
    "\n",
    "Internally the portal uses a hook mechanism that allows you to insert code to be run before or after any py5 method. This hook mechanism will also allow developers to create py5 libraries and extensions."
   ]
  },
  {
   "cell_type": "code",
   "execution_count": 8,
   "id": "37441e77-de01-437b-b5f1-d7c437d8df58",
   "metadata": {},
   "outputs": [
    {
     "data": {
      "application/vnd.jupyter.widget-view+json": {
       "model_id": "174c18a52bc04fdca7e6671783ace058",
       "version_major": 2,
       "version_minor": 0
      },
      "text/plain": [
       "Py5SketchPortal(value=b'', layout=\"Layout(border='1px solid gray', height='208px', width='191px')\")"
      ]
     },
     "metadata": {},
     "output_type": "display_data"
    }
   ],
   "source": [
    "portal = py5_tools.sketch_portal(quality=75, scale=1.0)\n",
    "\n",
    "portal"
   ]
  },
  {
   "cell_type": "markdown",
   "id": "9b884946-f480-475b-b1c6-5b52baac0b33",
   "metadata": {},
   "source": [
    "You should see a clean and smooth animation. If you are running this through mybinder, that will be dependent on your having a good internet connection and a well behaved server. If it seems jumpy, try adjusting the quality, the scale. You can also try using the `throttle_frame_rate` parameter. See the documenation for more information."
   ]
  },
  {
   "cell_type": "markdown",
   "id": "66565b93-bbdc-48ea-baaf-47d9559678f8",
   "metadata": {},
   "source": [
    "## Check the Sketch `frame_rate`\n",
    "\n",
    "Check the frame rate. You should be able to get 60 frames per second for this Sketch."
   ]
  },
  {
   "cell_type": "code",
   "execution_count": null,
   "id": "bfe8c4fb-2d73-4540-9552-b7dceb9c8cd5",
   "metadata": {},
   "outputs": [],
   "source": [
    "py5.get_frame_rate()"
   ]
  },
  {
   "cell_type": "markdown",
   "id": "ca3b15b1-d9c8-4cf5-ab7a-c52477aca2e8",
   "metadata": {},
   "source": [
    "## Next Steps for Jupyter Lab Users\n",
    "\n",
    "If you are using Jupyter Lab, after executing the previous cell, try right clicking in the output area and selecting `Create New View for Output`. This will create a new panel just for the Sketch portal. Creating a `New Console for Notebook` and creating a portal there works well also."
   ]
  },
  {
   "cell_type": "code",
   "execution_count": null,
   "id": "e38a5d08-f787-489c-9b14-ce75aa3d9d4c",
   "metadata": {},
   "outputs": [],
   "source": []
  }
 ],
 "metadata": {
  "kernelspec": {
   "display_name": "Python 3",
   "language": "python",
   "name": "python3"
  },
  "language_info": {
   "codemirror_mode": {
    "name": "ipython",
    "version": 3
   },
   "file_extension": ".py",
   "mimetype": "text/x-python",
   "name": "python",
   "nbconvert_exporter": "python",
   "pygments_lexer": "ipython3",
   "version": "3.8.10"
  },
  "widgets": {
   "application/vnd.jupyter.widget-state+json": {
    "state": {
     "174c18a52bc04fdca7e6671783ace058": {
      "buffers": [
       {
        "data": "/9j/4AAQSkZJRgABAQAAAQABAAD/2wBDAAgGBgcGBQgHBwcJCQgKDBQNDAsLDBkSEw8UHRofHh0aHBwgJC4nICIsIxwcKDcpLDAxNDQ0Hyc5PTgyPC4zNDL/2wBDAQkJCQwLDBgNDRgyIRwhMjIyMjIyMjIyMjIyMjIyMjIyMjIyMjIyMjIyMjIyMjIyMjIyMjIyMjIyMjIyMjIyMjL/wAARCADQAL8DASIAAhEBAxEB/8QAHwAAAQUBAQEBAQEAAAAAAAAAAAECAwQFBgcICQoL/8QAtRAAAgEDAwIEAwUFBAQAAAF9AQIDAAQRBRIhMUEGE1FhByJxFDKBkaEII0KxwRVS0fAkM2JyggkKFhcYGRolJicoKSo0NTY3ODk6Q0RFRkdISUpTVFVWV1hZWmNkZWZnaGlqc3R1dnd4eXqDhIWGh4iJipKTlJWWl5iZmqKjpKWmp6ipqrKztLW2t7i5usLDxMXGx8jJytLT1NXW19jZ2uHi4+Tl5ufo6erx8vP09fb3+Pn6/8QAHwEAAwEBAQEBAQEBAQAAAAAAAAECAwQFBgcICQoL/8QAtREAAgECBAQDBAcFBAQAAQJ3AAECAxEEBSExBhJBUQdhcRMiMoEIFEKRobHBCSMzUvAVYnLRChYkNOEl8RcYGRomJygpKjU2Nzg5OkNERUZHSElKU1RVVldYWVpjZGVmZ2hpanN0dXZ3eHl6goOEhYaHiImKkpOUlZaXmJmaoqOkpaanqKmqsrO0tba3uLm6wsPExcbHyMnK0tPU1dbX2Nna4uPk5ebn6Onq8vP09fb3+Pn6/9oADAMBAAIRAxEAPwD0CiiigAooooAKKKKACiiigAooooAKKKKACiiigAooooAKKKKACiiigAooooAKKKKACiiigAooooAKKKKACiiigAooooAKKKKACiiigAooooAKKKKACiiigAooooAKKKKACiiigAooooAKKKKACiiigAooooAKKKKACiiigAooooAKKKKACiiigAooooAKKKKACiiigAooooAKKKKACiiigAooooAKKKKACiiigAooooAKKKKACiiigAooooAKKKKACiiigAooooAKKKKACiiigAoorGufFvh2yuZLa51qxinjba8bzAFT6GgDZorE/wCEy8MH/mYNN/8AAlf8acvi7w25wuv6Yf8At6T/ABoA2aKyR4o8Pnprum/+BSf41KPEGinGNY085/6ek/xoA0aKoprWkyHCapYsfQXKH+tXqACiiigAooooAKKKKACiiigAooooAKKKKACiiigAooooAK8q8PazaaN4q8RxapbtJb3d7LNbmO2MzBkkKuCFBI6r7V6qOteaeDnL/EK/I4GL4j/wJUf0oA3H8W+EwMSWcwB7NpMnP/jlM/4SfwUw+a1QezaTJ/8AG67PcfU0bj6mgDh38R+AC2Xt7Td33aW+f/RdIdb+HTLhodNweudOP/xFdzk+pqOY/uJf9w/yoA8n17RbHxHoWpavY6Xa6dotlbySWskVssct5IAcPnGVjHYd69Usf+Qfa/8AXFP/AEEVxFpz8DD/ANgmT+TV2mmsW0qyY9Tbxk/98igC1RRRQAUUUUAFFFFABRRRQAUUUUAFFFFABRRRQAUUUUAA6ivNPBKZ8dX7n+5ekfjd4/pXpg6ivNPAzb/Gt8cceTdEfjeN/hQB6VRRRQAUyb/US/7h/lT6ZN/qJf8AcP8AKgDhLP8A5IYf+wRJ/Jq7TS/+QRY/9e8f/oIri7P/AJIYf+wRJ/Jq7TS/+QRY/wDXvH/6CKALVFFFABRRRQAUUUUAFFFFABRRRQAUUUUAFFFFABRRRQAo+8PrXmfgFc+Lr1/+na44+t5J/hXpg6ivHbC38YaNrd7Pa6TcxDMkSMLMTiRGmeTP31xy3vQB7DRXmp17x4oybG6x7aOD/wC1qb/wkXjn/nyvP/BJ/wDbaAPTKZN/qJf9w/yrzb/hIvHP/Plef+CT/wC20N4j8cMhQ6ddEEEEnRjn/wBHUAXrP/khh/7BEn8mrtNL/wCQRY/9e8f/AKCK8sttQ8UQeDrnww/hO/mgNo9tBdLEUbkHBZTkd+xr1WwjeHTbSKQYdIUVh6EKAaALFFFFABRRRQAUUUUAFFFFABRRRQAUUUUAFFFFABRRRQAUUUUAFFFFABRRRQAUUUUAFFFFABRRRQAUUUUAFFFFABRRRQAUUUUAFFFFABRRRQAUUUUAFFFFABRRRQAUUUUAFFFFABRRRQAUUUUAFFFFABRRRQAUUUUAFFFFABRRRQAUUUUAFFFFABRRRQAUUUUAFFFFABRRRQAUUUUAFFFFABRRRQAUUUUAFFFFABRRRQAUUUUAFFFFABRRRQAUUUUAFFFFABRRRQAUUUUAFFFFABRRRQAUUUUAFFFFABRRRQAUUUUAFFFFABRRRQAUUUUAFFFFABRRRQAUUUUAFFFFAH//2Q==",
        "encoding": "base64",
        "path": [
         "value"
        ]
       }
      ],
      "model_module": "@jupyter-widgets/controls",
      "model_module_version": "1.5.0",
      "model_name": "ImageModel",
      "state": {
       "layout": "IPY_MODEL_dd919bf09115413f889bc1106744b1f2"
      }
     },
     "5041bf816e83425d8605a107c7340882": {
      "model_module": "@jupyter-widgets/base",
      "model_module_version": "1.2.0",
      "model_name": "LayoutModel",
      "state": {
       "border": "1px solid gray",
       "height": "1041px",
       "width": "956px"
      }
     },
     "a51dd881b0334a9388b51baf2d844330": {
      "buffers": [
       {
        "data": "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",
        "encoding": "base64",
        "path": [
         "value"
        ]
       }
      ],
      "model_module": "@jupyter-widgets/controls",
      "model_module_version": "1.5.0",
      "model_name": "ImageModel",
      "state": {
       "layout": "IPY_MODEL_5041bf816e83425d8605a107c7340882"
      }
     },
     "dd919bf09115413f889bc1106744b1f2": {
      "model_module": "@jupyter-widgets/base",
      "model_module_version": "1.2.0",
      "model_name": "LayoutModel",
      "state": {
       "border": "1px solid gray",
       "height": "208px",
       "width": "191px"
      }
     }
    },
    "version_major": 2,
    "version_minor": 0
   }
  }
 },
 "nbformat": 4,
 "nbformat_minor": 5
}
