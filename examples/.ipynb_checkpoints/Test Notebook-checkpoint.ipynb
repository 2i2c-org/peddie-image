{
 "cells": [
  {
   "cell_type": "code",
   "execution_count": 1,
   "id": "653fe453-aeca-4a02-b304-be5a9a1d231b",
   "metadata": {},
   "outputs": [],
   "source": [
    "import py5\n",
    "\n",
    "%load_ext py5"
   ]
  },
  {
   "cell_type": "code",
   "execution_count": 2,
   "id": "cb331208-b16b-46dd-9be6-12a12b89ed9a",
   "metadata": {},
   "outputs": [
    {
     "data": {
      "image/png": "[encoded data removed]",
      "text/plain": [
       "<IPython.core.display.Image object>"
      ]
     },
     "metadata": {},
     "output_type": "display_data"
    }
   ],
   "source": [
    "%%py5draw 200 200\n",
    "\n",
    "py5.rect(10, 20, 130, 140)"
   ]
  },
  {
   "cell_type": "code",
   "execution_count": 3,
   "id": "53f0441b-0756-41a1-9453-90238fd6ab94",
   "metadata": {},
   "outputs": [
    {
     "data": {
      "image/png": "[encoded data removed]",
      "text/plain": [
       "<IPython.core.display.Image object>"
      ]
     },
     "metadata": {},
     "output_type": "display_data"
    }
   ],
   "source": [
    "%%py5draw 200 200 -r P2D\n",
    "\n",
    "py5.rect(10, 20, 130, 140)"
   ]
  },
  {
   "cell_type": "code",
   "execution_count": null,
   "id": "84ba47d8-1297-4300-82bf-00863be528cf",
   "metadata": {},
   "outputs": [],
   "source": []
  }
 ],
 "metadata": {
  "kernelspec": {
   "display_name": "Python 3",
   "language": "python",
   "name": "python3"
  },
  "language_info": {
   "codemirror_mode": {
    "name": "ipython",
    "version": 3
   },
   "file_extension": ".py",
   "mimetype": "text/x-python",
   "name": "python",
   "nbconvert_exporter": "python",
   "pygments_lexer": "ipython3",
   "version": "3.8.10"
  },
  "widgets": {
   "application/vnd.jupyter.widget-state+json": {
    "state": {},
    "version_major": 2,
    "version_minor": 0
   }
  }
 },
 "nbformat": 4,
 "nbformat_minor": 5
}
