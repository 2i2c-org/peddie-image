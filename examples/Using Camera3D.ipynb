{
 "cells": [
  {
   "cell_type": "markdown",
   "id": "b9d0f4a7-2e63-40be-9398-55be35628bd8",
   "metadata": {},
   "source": [
    "# Using py5 with Camera3D\n",
    "\n",
    "This is a simple demonstration of how you can use py5 with Camera3D."
   ]
  },
  {
   "cell_type": "markdown",
   "id": "75e34f26-8406-4ac8-a203-e210c739b12b",
   "metadata": {},
   "source": [
    "## Import Jars\n",
    "\n",
    "Camera3D is a Processing library, and therefore the library itself is written in Java. The library is stored in a Jar file that must be added to the Java classpath. By default, any Jar files stored in a `jars` subdirectory are automatically added to the Java classpath. In this repo the Jar files are stored in a subdirectory of the root directory, so the `jars` directory must be explicitly added."
   ]
  },
  {
   "cell_type": "code",
   "execution_count": 1,
   "id": "dd2774c2-5db1-4e14-962f-3d11c40a840d",
   "metadata": {},
   "outputs": [],
   "source": [
    "import py5_tools\n",
    "py5_tools.add_jars('../jars')"
   ]
  },
  {
   "cell_type": "markdown",
   "id": "56722f6f-73f4-407d-be55-ca0a992e1323",
   "metadata": {},
   "source": [
    "## Import py5\n",
    "\n",
    "Import the py5 library. When the library is imported the Java Virtual Machine (JVM) is started. Any additions or changes to the Java classpath must be done before importing py5."
   ]
  },
  {
   "cell_type": "code",
   "execution_count": 2,
   "id": "da1f087c-7292-4cdc-a92a-be38354b0ab1",
   "metadata": {},
   "outputs": [],
   "source": [
    "import py5"
   ]
  },
  {
   "cell_type": "markdown",
   "id": "0fffecd4-2b07-4956-b825-475839b22482",
   "metadata": {},
   "source": [
    "## Import Camera3D\n",
    "\n",
    "We must explicitly tell py5 to prepare a Java class for us to use in Python. The following line of code will allow us to create an instance of the Camera3D class in the `setup()` method."
   ]
  },
  {
   "cell_type": "code",
   "execution_count": 3,
   "id": "8feedca5-3695-450a-9d7d-8781eaa5c6a4",
   "metadata": {},
   "outputs": [],
   "source": [
    "Camera3D = py5.JClass('camera3D.Camera3D')"
   ]
  },
  {
   "cell_type": "markdown",
   "id": "ea4fdaf2-970d-40ba-b97a-12c30f9a3dde",
   "metadata": {},
   "source": [
    "## Define Global Variables\n",
    "\n",
    "Define some global variables that will be used by the Sketch."
   ]
  },
  {
   "cell_type": "code",
   "execution_count": 4,
   "id": "b0448c3c-879b-45aa-b10e-b32e559e1bfc",
   "metadata": {},
   "outputs": [],
   "source": [
    "rot_x = 0\n",
    "rot_y = 0\n",
    "rot_z = 0"
   ]
  },
  {
   "cell_type": "markdown",
   "id": "2395ccd3-d20a-4261-b0aa-c2b4d8352e5d",
   "metadata": {},
   "source": [
    "## Define `settings` Method\n",
    "\n",
    "This will set the width and height of the Sketch. Camera3D can only be used with the `P3D` renderer."
   ]
  },
  {
   "cell_type": "code",
   "execution_count": 5,
   "id": "2d1ce427-ff23-4a25-9251-7ad67c4f645b",
   "metadata": {},
   "outputs": [],
   "source": [
    "def settings():\n",
    "    py5.size(500, 500, py5.P3D)"
   ]
  },
  {
   "cell_type": "markdown",
   "id": "aa1b9bbe-3410-4160-a4f4-d0e3f9fce164",
   "metadata": {},
   "source": [
    "## Define `setup` Method\n",
    "\n",
    "The setup method will set the frame rate and other basic setup stuff. It will also create an instance of Camera3D and set some Camera3D options."
   ]
  },
  {
   "cell_type": "code",
   "execution_count": 6,
   "id": "a4ad4653-7f8b-4700-b99e-9129ddcf90e1",
   "metadata": {},
   "outputs": [],
   "source": [
    "def setup():\n",
    "    py5.frame_rate(30)\n",
    "    py5.stroke_weight(8)\n",
    "    py5.stroke(0)\n",
    "    py5.no_fill()\n",
    "\n",
    "    camera3D = Camera3D(py5.get_current_sketch())\n",
    "    camera3D.setBackgroundColor(py5.color(192))\n",
    "    camera3D.renderDefaultAnaglyph().setDivergence(1)"
   ]
  },
  {
   "cell_type": "markdown",
   "id": "c1b6720c-72df-4315-863b-3a763b7fd803",
   "metadata": {},
   "source": [
    "# Define `pre_draw` Method\n",
    "\n",
    "The `pre_draw` method is a Camera3D addition that runs once before any calls to the `draw` method. Camera3D will call the `draw` method multiple times per frame. It is helpful to have the ability to have some code run only once per frame instead of multiple times. In this case, we are adjusting the rotation variables."
   ]
  },
  {
   "cell_type": "code",
   "execution_count": 7,
   "id": "34150df6-2e2f-4f90-9d90-a79a6decab4a",
   "metadata": {},
   "outputs": [],
   "source": [
    "def pre_draw():\n",
    "    global rot_x\n",
    "    rot_x += 0.5\n",
    "    global rot_y\n",
    "    rot_y += 0.1\n",
    "    global rot_z\n",
    "    rot_z += 0.3"
   ]
  },
  {
   "cell_type": "markdown",
   "id": "d85936c5-0309-4d03-b9a5-b3307bd51c66",
   "metadata": {},
   "source": [
    "# Define `draw` Method\n",
    "\n",
    "The draw method will do some transformations and draw a box."
   ]
  },
  {
   "cell_type": "code",
   "execution_count": 8,
   "id": "1fc86055-85b7-4ce3-8c31-1757f7156b8a",
   "metadata": {},
   "outputs": [],
   "source": [
    "def draw():\n",
    "    py5.translate(py5.width / 2, py5.height / 2, -200)\n",
    "    py5.rotate_x(py5.radians(rot_x))\n",
    "    py5.rotate_y(py5.radians(rot_y))\n",
    "    py5.rotate_z(py5.radians(rot_z))\n",
    "\n",
    "    py5.box(300)"
   ]
  },
  {
   "cell_type": "markdown",
   "id": "2631175c-f8ea-4617-b525-eafb9f89e8f9",
   "metadata": {},
   "source": [
    "# Define `post_draw` Method\n",
    "\n",
    "Similar to `pre_draw`, the `post_draw` method is run after all calls to the `draw` method. This `post_draw` method doesn't do anything, but we will need it for reasons that will be clear later."
   ]
  },
  {
   "cell_type": "code",
   "execution_count": 9,
   "id": "65d3e279-0a12-4c6b-a0e4-6eae6ebf323e",
   "metadata": {},
   "outputs": [],
   "source": [
    "def post_draw():\n",
    "    pass"
   ]
  },
  {
   "cell_type": "markdown",
   "id": "72fb7f80-3365-4806-8827-a18f38e86d40",
   "metadata": {},
   "source": [
    "# Run the Sketch\n",
    "\n",
    "Run the sketch, opening a window on the display. If you are running this through a JupterHub platform such as binder, no window will appear on your computer because the Sketch is really running on a server in the cloud. As an alternative, we will create a py5 Sketch Portal to view the animation."
   ]
  },
  {
   "cell_type": "code",
   "execution_count": 10,
   "id": "fbfbe627-0f71-4da2-9d32-0a4772bdf3ad",
   "metadata": {},
   "outputs": [],
   "source": [
    "py5.run_sketch()"
   ]
  },
  {
   "cell_type": "markdown",
   "id": "66c4a491-7028-437f-9dbd-9c376a698aff",
   "metadata": {},
   "source": [
    "# Open the py5 Sketch Portal\n",
    "\n",
    "This will create a Sketch portal and embed it in the notebook.\n",
    "\n",
    "Internally the portal uses a hook mechanism that allows you to insert code to be run before or after any py5 method. This hook mechanism will also allow developers to create py5 libraries and extensions.\n",
    "\n",
    "Since Camera3D works by calling the `draw` method multiple times and creating a composite image, the py5 Sketch portal needs to run after the composite image has been created. To do that, we will use the dummy `post_draw` method and the `hook_post_draw` parameter."
   ]
  },
  {
   "cell_type": "code",
   "execution_count": 11,
   "id": "b05a1c53-7f8d-41f3-b72b-82b1a49f3be1",
   "metadata": {},
   "outputs": [
    {
     "data": {
      "application/vnd.jupyter.widget-view+json": {
       "model_id": "",
       "version_major": 2,
       "version_minor": 0
      },
      "text/plain": [
       "Py5SketchPortal(value=b'', layout=\"Layout(border='1px solid gray', height='500px', width='500px')\")"
      ]
     },
     "metadata": {},
     "output_type": "display_data"
    }
   ],
   "source": [
    "portal = py5_tools.sketch_portal(hook_post_draw=True)\n",
    "\n",
    "portal"
   ]
  },
  {
   "cell_type": "markdown",
   "id": "3df4b973-dc4e-4fc3-8cde-7adbdee83c96",
   "metadata": {},
   "source": [
    "## Next Steps\n",
    "\n",
    "After executing the previous cell, try right clicking in the output area and selecting `Create New View for Output`. This will create a new panel just for the Sketch portal. Creating a `New Console for Notebook` and creating a portal there works well also."
   ]
  }
 ],
 "metadata": {
  "kernelspec": {
   "display_name": "Python 3",
   "language": "python",
   "name": "python3"
  },
  "language_info": {
   "codemirror_mode": {
    "name": "ipython",
    "version": 3
   },
   "file_extension": ".py",
   "mimetype": "text/x-python",
   "name": "python",
   "nbconvert_exporter": "python",
   "pygments_lexer": "ipython3",
   "version": "3.8.10"
  },
  "widgets": {
   "application/vnd.jupyter.widget-state+json": {
    "state": {
     "78a1e4f878454d4aa08b2f6603c999c1": {
      "model_module": "@jupyter-widgets/base",
      "model_module_version": "1.2.0",
      "model_name": "LayoutModel",
      "state": {
       "border": "1px solid gray",
       "height": "500px",
       "width": "500px"
      }
     },
     "be2fc0ef36434941a14c1d1627054b97": {
      "buffers": [
       {
        "data": "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",
        "encoding": "base64",
        "path": [
         "value"
        ]
       }
      ],
      "model_module": "@jupyter-widgets/controls",
      "model_module_version": "1.5.0",
      "model_name": "ImageModel",
      "state": {
       "layout": "IPY_MODEL_78a1e4f878454d4aa08b2f6603c999c1"
      }
     }
    },
    "version_major": 2,
    "version_minor": 0
   }
  }
 },
 "nbformat": 4,
 "nbformat_minor": 5
}
